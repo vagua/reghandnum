{
 "cells": [
  {
   "cell_type": "code",
   "execution_count": 2,
   "id": "80127c10",
   "metadata": {},
   "outputs": [],
   "source": [
    "import keras\n",
    "from keras.models import Sequential\n",
    "from keras.datasets import mnist\n",
    "from keras.layers import Dense, Flatten, Conv2D, MaxPooling2D\n",
    "from tensorflow.keras.utils import to_categorical"
   ]
  },
  {
   "cell_type": "code",
   "execution_count": 3,
   "id": "355311f3",
   "metadata": {},
   "outputs": [],
   "source": [
    "(x_train, y_train), (x_test, y_test) = mnist.load_data()\n",
    "\n",
    "x_train = x_train.reshape(60000, 28, 28, 1)\n",
    "x_test = x_test.reshape(10000, 28, 28, 1)\n",
    "x_train = x_train.astype('float32')\n",
    "x_test = x_test.astype('float32')\n",
    "x_train /=255\n",
    "x_test /=255\n",
    "\n",
    "y_train = to_categorical(y_train, 10)\n",
    "y_test = to_categorical(y_test, 10)"
   ]
  },
  {
   "cell_type": "code",
   "execution_count": 4,
   "id": "75d5aec4",
   "metadata": {},
   "outputs": [
    {
     "name": "stdout",
     "output_type": "stream",
     "text": [
      "Model: \"sequential\"\n",
      "_________________________________________________________________\n",
      " Layer (type)                Output Shape              Param #   \n",
      "=================================================================\n",
      " conv2d (Conv2D)             (None, 28, 28, 16)        416       \n",
      "                                                                 \n",
      " max_pooling2d (MaxPooling2D  (None, 14, 14, 16)       0         \n",
      " )                                                               \n",
      "                                                                 \n",
      " flatten (Flatten)           (None, 3136)              0         \n",
      "                                                                 \n",
      " dense (Dense)               (None, 128)               401536    \n",
      "                                                                 \n",
      " dense_1 (Dense)             (None, 10)                1290      \n",
      "                                                                 \n",
      "=================================================================\n",
      "Total params: 403,242\n",
      "Trainable params: 403,242\n",
      "Non-trainable params: 0\n",
      "_________________________________________________________________\n"
     ]
    }
   ],
   "source": [
    "model = Sequential()\n",
    "\n",
    "model.add(Conv2D(filters=16, kernel_size=(5,5), padding='same', input_shape=(28, 28, 1), activation='relu'))\n",
    "\n",
    "model.add(MaxPooling2D(pool_size=(2,2)))\n",
    "\n",
    "model.add(Flatten())\n",
    "\n",
    "model.add(Dense(128, activation='relu'))\n",
    "\n",
    "model.add(Dense(10, activation='softmax'))\n",
    "\n",
    "model.summary()"
   ]
  },
  {
   "cell_type": "code",
   "execution_count": 5,
   "id": "4999c443",
   "metadata": {},
   "outputs": [
    {
     "name": "stdout",
     "output_type": "stream",
     "text": [
      "Epoch 1/10\n",
      "800/800 [==============================] - 16s 4ms/step - loss: 0.2033 - accuracy: 0.9391 - val_loss: 0.0789 - val_accuracy: 0.9765\n",
      "Epoch 2/10\n",
      "800/800 [==============================] - 3s 4ms/step - loss: 0.0642 - accuracy: 0.9805 - val_loss: 0.0583 - val_accuracy: 0.9827\n",
      "Epoch 3/10\n",
      "800/800 [==============================] - 3s 4ms/step - loss: 0.0430 - accuracy: 0.9870 - val_loss: 0.0507 - val_accuracy: 0.9847\n",
      "Epoch 4/10\n",
      "800/800 [==============================] - 3s 4ms/step - loss: 0.0299 - accuracy: 0.9905 - val_loss: 0.0651 - val_accuracy: 0.9814\n",
      "Epoch 5/10\n",
      "800/800 [==============================] - 3s 4ms/step - loss: 0.0229 - accuracy: 0.9930 - val_loss: 0.0495 - val_accuracy: 0.9858\n",
      "Epoch 6/10\n",
      "800/800 [==============================] - 3s 4ms/step - loss: 0.0167 - accuracy: 0.9948 - val_loss: 0.0485 - val_accuracy: 0.9868\n",
      "Epoch 7/10\n",
      "800/800 [==============================] - 3s 4ms/step - loss: 0.0130 - accuracy: 0.9957 - val_loss: 0.0525 - val_accuracy: 0.9864\n",
      "Epoch 8/10\n",
      "800/800 [==============================] - 3s 4ms/step - loss: 0.0101 - accuracy: 0.9966 - val_loss: 0.0652 - val_accuracy: 0.9837\n",
      "Epoch 9/10\n",
      "800/800 [==============================] - 3s 4ms/step - loss: 0.0087 - accuracy: 0.9974 - val_loss: 0.0540 - val_accuracy: 0.9868\n",
      "Epoch 10/10\n",
      "800/800 [==============================] - 3s 3ms/step - loss: 0.0073 - accuracy: 0.9976 - val_loss: 0.0602 - val_accuracy: 0.9862\n"
     ]
    }
   ],
   "source": [
    "model.compile(loss='categorical_crossentropy', optimizer='adam', metrics=['accuracy'])\n",
    "\n",
    "train_history = model.fit(x_train, y_train, batch_size = 60, epochs = 10, verbose=1, validation_split=0.2)"
   ]
  },
  {
   "cell_type": "code",
   "execution_count": 31,
   "id": "cfefa187",
   "metadata": {},
   "outputs": [
    {
     "name": "stdout",
     "output_type": "stream",
     "text": [
      "Test loss: 0.04430060833692551\n",
      "test accuracy: 0.9900000095367432\n"
     ]
    }
   ],
   "source": [
    "score = model.evaluate(x_test, y_test, verbose=0)\n",
    "print('Test loss:', score[0])\n",
    "print('Test accuracy:', score[1])"
   ]
  }
 ],
 "metadata": {
  "kernelspec": {
   "display_name": "Python 3 (ipykernel)",
   "language": "python",
   "name": "python3"
  },
  "language_info": {
   "codemirror_mode": {
    "name": "ipython",
    "version": 3
   },
   "file_extension": ".py",
   "mimetype": "text/x-python",
   "name": "python",
   "nbconvert_exporter": "python",
   "pygments_lexer": "ipython3",
   "version": "3.8.11"
  }
 },
 "nbformat": 4,
 "nbformat_minor": 5
}
